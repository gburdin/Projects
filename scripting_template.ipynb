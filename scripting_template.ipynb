{
  "nbformat": 4,
  "nbformat_minor": 0,
  "metadata": {
    "colab": {
      "name": "scripting_template.ipynb",
      "provenance": [],
      "include_colab_link": true
    },
    "kernelspec": {
      "display_name": "Python 3",
      "language": "python",
      "name": "python3"
    },
    "language_info": {
      "codemirror_mode": {
        "name": "ipython",
        "version": 3
      },
      "file_extension": ".py",
      "mimetype": "text/x-python",
      "name": "python",
      "nbconvert_exporter": "python",
      "pygments_lexer": "ipython3",
      "version": "3.7.3"
    }
  },
  "cells": [
    {
      "cell_type": "markdown",
      "metadata": {
        "id": "view-in-github",
        "colab_type": "text"
      },
      "source": [
        "<a href=\"https://colab.research.google.com/github/gburdin/Projects/blob/master/scripting_template.ipynb\" target=\"_parent\"><img src=\"https://colab.research.google.com/assets/colab-badge.svg\" alt=\"Open In Colab\"/></a>"
      ]
    },
    {
      "cell_type": "code",
      "metadata": {
        "colab_type": "code",
        "id": "ncLiSlxX6FEE",
        "outputId": "ef716644-aff4-4d5c-8b77-6f10bd5aaff9",
        "colab": {
          "base_uri": "https://localhost:8080/",
          "height": 134
        }
      },
      "source": [
        "# Get the data from the git repository\n",
        "! git clone https://code.vt.edu/rhewett/cmda_1984_scripting_data.git"
      ],
      "execution_count": 105,
      "outputs": [
        {
          "output_type": "stream",
          "text": [
            "Cloning into 'cmda_1984_scripting_data'...\n",
            "remote: Enumerating objects: 83, done.\u001b[K\n",
            "remote: Counting objects: 100% (83/83), done.\u001b[K\n",
            "remote: Compressing objects: 100% (81/81), done.\u001b[K\n",
            "remote: Total 83 (delta 0), reused 0 (delta 0)\u001b[K\n",
            "Unpacking objects: 100% (83/83), done.\n",
            "Checking out files: 100% (153/153), done.\n"
          ],
          "name": "stdout"
        }
      ]
    },
    {
      "cell_type": "code",
      "metadata": {
        "colab_type": "code",
        "id": "llFVzFAi6KlM",
        "colab": {
          "base_uri": "https://localhost:8080/",
          "height": 34
        },
        "outputId": "899e2eb7-0696-41f9-81f9-4dd71233f219"
      },
      "source": [
        "# Change into the directory containing the data (git repository)\n",
        "%cd cmda_1984_scripting_data/"
      ],
      "execution_count": 106,
      "outputs": [
        {
          "output_type": "stream",
          "text": [
            "/content/cmda_1984_scripting_data/cmda_1984_scripting_data/cmda_1984_scripting_data/cmda_1984_scripting_data\n"
          ],
          "name": "stdout"
        }
      ]
    },
    {
      "cell_type": "code",
      "metadata": {
        "colab_type": "code",
        "id": "OzmipCAp6P8G",
        "colab": {
          "base_uri": "https://localhost:8080/",
          "height": 34
        },
        "outputId": "dc87990d-7465-44bc-dbae-7821ba07d715"
      },
      "source": [
        "# List the contents of the git repository\n",
        "! ls "
      ],
      "execution_count": 182,
      "outputs": [
        {
          "output_type": "stream",
          "text": [
            "data_iso_q2  data_prepped  data_reduced  README.md\n"
          ],
          "name": "stdout"
        }
      ]
    },
    {
      "cell_type": "code",
      "metadata": {
        "colab_type": "code",
        "id": "msKscX_L6deF",
        "colab": {
          "base_uri": "https://localhost:8080/",
          "height": 336
        },
        "outputId": "12719915-a6ea-415e-ca61-5a7af0f8f2fb"
      },
      "source": [
        "# List the contents of the reduced raw data directory\n",
        "! ls data_reduced"
      ],
      "execution_count": 177,
      "outputs": [
        {
          "output_type": "stream",
          "text": [
            "'Snoq (100).JPG'  'Snoq (166).JPG'  'Snoq (230).JPG'  'Snoq (297).JPG'\n",
            "'Snoq (102).JPG'  'Snoq (16).JPG'   'Snoq (234).JPG'  'Snoq (32).JPG'\n",
            "'Snoq (106).JPG'  'Snoq (170).JPG'  'Snoq (237).JPG'  'Snoq (36).JPG'\n",
            "'Snoq (10).JPG'   'Snoq (174).JPG'  'Snoq (241).JPG'  'Snoq (40).JPG'\n",
            "'Snoq (110).JPG'  'Snoq (178).JPG'  'Snoq (245).JPG'  'Snoq (44).JPG'\n",
            "'Snoq (114).JPG'  'Snoq (182).JPG'  'Snoq (249).JPG'  'Snoq (48).JPG'\n",
            "'Snoq (118).JPG'  'Snoq (186).JPG'  'Snoq (24).JPG'   'Snoq (52).JPG'\n",
            "'Snoq (122).JPG'  'Snoq (190).JPG'  'Snoq (253).JPG'  'Snoq (56).JPG'\n",
            "'Snoq (126).JPG'  'Snoq (194).JPG'  'Snoq (257).JPG'  'Snoq (5).JPG'\n",
            "'Snoq (12).JPG'   'Snoq (198).JPG'  'Snoq (261).JPG'  'Snoq (60).JPG'\n",
            "'Snoq (130).JPG'  'Snoq (1).JPG'    'Snoq (265).JPG'  'Snoq (64).JPG'\n",
            "'Snoq (134).JPG'  'Snoq (202).JPG'  'Snoq (269).JPG'  'Snoq (68).JPG'\n",
            "'Snoq (138).JPG'  'Snoq (206).JPG'  'Snoq (273).JPG'  'Snoq (72).JPG'\n",
            "'Snoq (142).JPG'  'Snoq (20).JPG'   'Snoq (277).JPG'  'Snoq (76).JPG'\n",
            "'Snoq (146).JPG'  'Snoq (210).JPG'  'Snoq (281).JPG'  'Snoq (80).JPG'\n",
            "'Snoq (150).JPG'  'Snoq (214).JPG'  'Snoq (285).JPG'  'Snoq (82).JPG'\n",
            "'Snoq (154).JPG'  'Snoq (218).JPG'  'Snoq (289).JPG'  'Snoq (86).JPG'\n",
            "'Snoq (158).JPG'  'Snoq (222).JPG'  'Snoq (28).JPG'   'Snoq (90).JPG'\n",
            "'Snoq (162).JPG'  'Snoq (226).JPG'  'Snoq (293).JPG'  'Snoq (94).JPG'\n"
          ],
          "name": "stdout"
        }
      ]
    },
    {
      "cell_type": "code",
      "metadata": {
        "colab_type": "code",
        "id": "KMEUzBT76fPa",
        "colab": {
          "base_uri": "https://localhost:8080/",
          "height": 336
        },
        "outputId": "9b301568-cba3-43b0-8103-a6c12a666ce7"
      },
      "source": [
        "# List the contents of the \"prepped\" data directory\n",
        "! ls data_prepped"
      ],
      "execution_count": 178,
      "outputs": [
        {
          "output_type": "stream",
          "text": [
            "010115_090000.jpg  012015_090000.jpg  020815_080000.jpg  120814_090000.jpg\n",
            "010215_090000.jpg  012115_090000.jpg  020915_090000.jpg  120914_100000.jpg\n",
            "010315_090000.jpg  012215_090000.jpg  112014_090000.jpg  121014_100000.jpg\n",
            "010415_090000.jpg  012315_100000.jpg  112114_100000.jpg  121614_100000.jpg\n",
            "010515_090000.jpg  012415_090000.jpg  112214_110000.jpg  121714_090000.jpg\n",
            "010615_090000.jpg  012515_090000.jpg  112314_100000.jpg  121814_090000.jpg\n",
            "010715_100000.jpg  012615_090000.jpg  112414_100000.jpg  121914_080000.jpg\n",
            "010815_090000.jpg  012715_090000.jpg  112514_100000.jpg  122014_090000.jpg\n",
            "010915_090000.jpg  012815_090000.jpg  112614_100000.jpg  122114_130100.jpg\n",
            "011015_090000.jpg  012915_090000.jpg  112714_090000.jpg  122214_080000.jpg\n",
            "011115_090000.jpg  013015_090000.jpg  112914_090000.jpg  122314_090000.jpg\n",
            "011215_090000.jpg  013115_090000.jpg  113014_090000.jpg  122414_080000.jpg\n",
            "011315_100000.jpg  020115_090000.jpg  120114_080000.jpg  122514_090000.jpg\n",
            "011415_090000.jpg  020215_100000.jpg  120214_090000.jpg  122614_090000.jpg\n",
            "011515_100000.jpg  020315_110000.jpg  120314_090000.jpg  122714_100000.jpg\n",
            "011615_090000.jpg  020415_090000.jpg  120414_090000.jpg  122814_100000.jpg\n",
            "011715_090000.jpg  020515_100000.jpg  120514_090000.jpg  122914_090000.jpg\n",
            "011815_090000.jpg  020615_100000.jpg  120614_100000.jpg  123014_090000.jpg\n",
            "011915_090000.jpg  020715_090000.jpg  120714_080000.jpg  123114_090000.jpg\n"
          ],
          "name": "stdout"
        }
      ]
    },
    {
      "cell_type": "markdown",
      "metadata": {
        "colab_type": "text",
        "id": "FTwnQuqL7huD"
      },
      "source": [
        "# Question 1"
      ]
    },
    {
      "cell_type": "code",
      "metadata": {
        "colab_type": "code",
        "id": "uQqEz1ld6iZU",
        "colab": {
          "base_uri": "https://localhost:8080/",
          "height": 1294
        },
        "outputId": "7b9cf4ee-bb6c-4154-86a7-6a21289a6ca0"
      },
      "source": [
        "import os\n",
        "\n",
        "path = \"data_prepped\"\n",
        "\n",
        "# Extend this code to print the contents (full relative path)\n",
        "# of the \"data_prepped\" directory\n",
        "for entry in os.listdir(path):\n",
        "  full_path = os.path.join(path,entry)\n",
        "  print(full_path)\n",
        "\n"
      ],
      "execution_count": 108,
      "outputs": [
        {
          "output_type": "stream",
          "text": [
            "data_prepped/010115_090000.jpg\n",
            "data_prepped/012515_090000.jpg\n",
            "data_prepped/020915_090000.jpg\n",
            "data_prepped/020315_110000.jpg\n",
            "data_prepped/010815_090000.jpg\n",
            "data_prepped/011115_090000.jpg\n",
            "data_prepped/012315_100000.jpg\n",
            "data_prepped/012115_090000.jpg\n",
            "data_prepped/112314_100000.jpg\n",
            "data_prepped/122914_090000.jpg\n",
            "data_prepped/112714_090000.jpg\n",
            "data_prepped/112214_110000.jpg\n",
            "data_prepped/112914_090000.jpg\n",
            "data_prepped/020815_080000.jpg\n",
            "data_prepped/011615_090000.jpg\n",
            "data_prepped/011915_090000.jpg\n",
            "data_prepped/011215_090000.jpg\n",
            "data_prepped/012915_090000.jpg\n",
            "data_prepped/120614_100000.jpg\n",
            "data_prepped/020115_090000.jpg\n",
            "data_prepped/122514_090000.jpg\n",
            "data_prepped/011315_100000.jpg\n",
            "data_prepped/112414_100000.jpg\n",
            "data_prepped/011015_090000.jpg\n",
            "data_prepped/122214_080000.jpg\n",
            "data_prepped/122414_080000.jpg\n",
            "data_prepped/122114_130100.jpg\n",
            "data_prepped/013115_090000.jpg\n",
            "data_prepped/113014_090000.jpg\n",
            "data_prepped/122614_090000.jpg\n",
            "data_prepped/122314_090000.jpg\n",
            "data_prepped/121714_090000.jpg\n",
            "data_prepped/122014_090000.jpg\n",
            "data_prepped/121614_100000.jpg\n",
            "data_prepped/010215_090000.jpg\n",
            "data_prepped/120514_090000.jpg\n",
            "data_prepped/012815_090000.jpg\n",
            "data_prepped/121014_100000.jpg\n",
            "data_prepped/012215_090000.jpg\n",
            "data_prepped/122714_100000.jpg\n",
            "data_prepped/123114_090000.jpg\n",
            "data_prepped/112114_100000.jpg\n",
            "data_prepped/121814_090000.jpg\n",
            "data_prepped/010515_090000.jpg\n",
            "data_prepped/010715_100000.jpg\n",
            "data_prepped/112614_100000.jpg\n",
            "data_prepped/012015_090000.jpg\n",
            "data_prepped/020215_100000.jpg\n",
            "data_prepped/120114_080000.jpg\n",
            "data_prepped/011515_100000.jpg\n",
            "data_prepped/120314_090000.jpg\n",
            "data_prepped/012415_090000.jpg\n",
            "data_prepped/020415_090000.jpg\n",
            "data_prepped/010415_090000.jpg\n",
            "data_prepped/010915_090000.jpg\n",
            "data_prepped/011815_090000.jpg\n",
            "data_prepped/120814_090000.jpg\n",
            "data_prepped/120414_090000.jpg\n",
            "data_prepped/020515_100000.jpg\n",
            "data_prepped/011715_090000.jpg\n",
            "data_prepped/013015_090000.jpg\n",
            "data_prepped/010315_090000.jpg\n",
            "data_prepped/120914_100000.jpg\n",
            "data_prepped/112014_090000.jpg\n",
            "data_prepped/120714_080000.jpg\n",
            "data_prepped/012715_090000.jpg\n",
            "data_prepped/120214_090000.jpg\n",
            "data_prepped/020715_090000.jpg\n",
            "data_prepped/012615_090000.jpg\n",
            "data_prepped/112514_100000.jpg\n",
            "data_prepped/020615_100000.jpg\n",
            "data_prepped/121914_080000.jpg\n",
            "data_prepped/123014_090000.jpg\n",
            "data_prepped/011415_090000.jpg\n",
            "data_prepped/122814_100000.jpg\n",
            "data_prepped/010615_090000.jpg\n"
          ],
          "name": "stdout"
        }
      ]
    },
    {
      "cell_type": "markdown",
      "metadata": {
        "colab_type": "text",
        "id": "uB9xQ9Qe7mCt"
      },
      "source": [
        "# Question 2"
      ]
    },
    {
      "cell_type": "code",
      "metadata": {
        "colab_type": "code",
        "id": "48V34gSr8RjT",
        "colab": {
          "base_uri": "https://localhost:8080/",
          "height": 34
        },
        "outputId": "b9dcf484-04e5-47ec-c0fb-7480a27e5798"
      },
      "source": [
        "! mkdir data_iso_q2"
      ],
      "execution_count": 123,
      "outputs": [
        {
          "output_type": "stream",
          "text": [
            "mkdir: cannot create directory ‘data_iso_q2’: File exists\n"
          ],
          "name": "stdout"
        }
      ]
    },
    {
      "cell_type": "code",
      "metadata": {
        "colab_type": "code",
        "id": "e6GFqeyP6rIt",
        "colab": {
          "base_uri": "https://localhost:8080/",
          "height": 1330
        },
        "outputId": "40837e14-a2a5-44a8-8a93-c48b35c3a35c"
      },
      "source": [
        "import os\n",
        "import os.path\n",
        "import shutil\n",
        "\n",
        "src_path = \"data_prepped\"\n",
        "dst_path = \"data_iso_q2\"\n",
        "\n",
        "# Extend this code to copy of the \"data_prepped\" directory \n",
        "# to the \"data_iso_q2\" directory with a name that uses the\n",
        "# ISO 8601 date standard\n",
        "\n",
        "def copytree(src, dst, symlinks=False, ignore=None):\n",
        "    for item in os.listdir(src):\n",
        "        s = os.path.join(src, item)\n",
        "        d = os.path.join(dst, item)\n",
        "        if os.path.isdir(s):\n",
        "            shutil.copytree(s, d, symlinks, ignore)\n",
        "        else:\n",
        "            shutil.copy2(s, d)\n",
        "            \n",
        "copytree(src_path, dst_path)\n",
        "\n",
        "for entry in os.listdir(dst_path): #printing the data_iso_q2 directory\n",
        "  full_path = os.path.join(dst_path,\"20\" + entry[4:6] + entry[:2] + entry[2:4] + entry[6:])\n",
        "  print(full_path)\n",
        "\n",
        "\n",
        "for entry in os.listdir(dst_path): #setting the data_iso_q2 directory to ISO standards\n",
        "  dst_path = os.path.join(dst_path,\"20\" + entry[4:6] + entry[:2] + entry[2:4] + entry[6:])\n",
        "\n",
        "\n",
        "\n",
        "\n",
        "\n",
        "\n",
        "\n",
        "\n",
        "\n"
      ],
      "execution_count": 183,
      "outputs": [
        {
          "output_type": "stream",
          "text": [
            "data_iso_q2/20150101_090000.jpg\n",
            "data_iso_q2/20150125_090000.jpg\n",
            "data_iso_q2/20150209_090000.jpg\n",
            "data_iso_q2/20150203_110000.jpg\n",
            "data_iso_q2/20150108_090000.jpg\n",
            "data_iso_q2/20150111_090000.jpg\n",
            "data_iso_q2/20150123_100000.jpg\n",
            "data_iso_q2/20150121_090000.jpg\n",
            "data_iso_q2/20141123_100000.jpg\n",
            "data_iso_q2/20141229_090000.jpg\n",
            "data_iso_q2/20141127_090000.jpg\n",
            "data_iso_q2/20141122_110000.jpg\n",
            "data_iso_q2/20141129_090000.jpg\n",
            "data_iso_q2/20150208_080000.jpg\n",
            "data_iso_q2/20150116_090000.jpg\n",
            "data_iso_q2/20150119_090000.jpg\n",
            "data_iso_q2/20150112_090000.jpg\n",
            "data_iso_q2/20150129_090000.jpg\n",
            "data_iso_q2/20141206_100000.jpg\n",
            "data_iso_q2/20150201_090000.jpg\n",
            "data_iso_q2/20141225_090000.jpg\n",
            "data_iso_q2/20150113_100000.jpg\n",
            "data_iso_q2/20141124_100000.jpg\n",
            "data_iso_q2/20150110_090000.jpg\n",
            "data_iso_q2/20141222_080000.jpg\n",
            "data_iso_q2/20141224_080000.jpg\n",
            "data_iso_q2/20141221_130100.jpg\n",
            "data_iso_q2/20150131_090000.jpg\n",
            "data_iso_q2/20141130_090000.jpg\n",
            "data_iso_q2/20141226_090000.jpg\n",
            "data_iso_q2/20141223_090000.jpg\n",
            "data_iso_q2/20141217_090000.jpg\n",
            "data_iso_q2/20141220_090000.jpg\n",
            "data_iso_q2/20141216_100000.jpg\n",
            "data_iso_q2/20150102_090000.jpg\n",
            "data_iso_q2/20141205_090000.jpg\n",
            "data_iso_q2/20150128_090000.jpg\n",
            "data_iso_q2/20141210_100000.jpg\n",
            "data_iso_q2/20150122_090000.jpg\n",
            "data_iso_q2/20141227_100000.jpg\n",
            "data_iso_q2/20141231_090000.jpg\n",
            "data_iso_q2/20141121_100000.jpg\n",
            "data_iso_q2/20141218_090000.jpg\n",
            "data_iso_q2/20150105_090000.jpg\n",
            "data_iso_q2/20150107_100000.jpg\n",
            "data_iso_q2/20141126_100000.jpg\n",
            "data_iso_q2/20150120_090000.jpg\n",
            "data_iso_q2/20150202_100000.jpg\n",
            "data_iso_q2/20141201_080000.jpg\n",
            "data_iso_q2/20150115_100000.jpg\n",
            "data_iso_q2/20141203_090000.jpg\n",
            "data_iso_q2/20150124_090000.jpg\n",
            "data_iso_q2/20150204_090000.jpg\n",
            "data_iso_q2/20150104_090000.jpg\n",
            "data_iso_q2/20150109_090000.jpg\n",
            "data_iso_q2/20150118_090000.jpg\n",
            "data_iso_q2/20141208_090000.jpg\n",
            "data_iso_q2/20141204_090000.jpg\n",
            "data_iso_q2/20150205_100000.jpg\n",
            "data_iso_q2/20150117_090000.jpg\n",
            "data_iso_q2/20150130_090000.jpg\n",
            "data_iso_q2/20150103_090000.jpg\n",
            "data_iso_q2/20141209_100000.jpg\n",
            "data_iso_q2/20141120_090000.jpg\n",
            "data_iso_q2/20141207_080000.jpg\n",
            "data_iso_q2/20150127_090000.jpg\n",
            "data_iso_q2/20141202_090000.jpg\n",
            "data_iso_q2/20150207_090000.jpg\n",
            "data_iso_q2/20150126_090000.jpg\n",
            "data_iso_q2/20141125_100000.jpg\n",
            "data_iso_q2/20150206_100000.jpg\n",
            "data_iso_q2/20141219_080000.jpg\n",
            "data_iso_q2/20141230_090000.jpg\n",
            "data_iso_q2/20150114_090000.jpg\n",
            "data_iso_q2/20141228_100000.jpg\n",
            "data_iso_q2/20150106_090000.jpg\n",
            "data_iso_q2/20150101_090000.jpg/20150125_090000.jpg/20150209_090000.jpg/20150203_110000.jpg/20150108_090000.jpg/20150111_090000.jpg/20150123_100000.jpg/20150121_090000.jpg/20141123_100000.jpg/20141229_090000.jpg/20141127_090000.jpg/20141122_110000.jpg/20141129_090000.jpg/20150208_080000.jpg/20150116_090000.jpg/20150119_090000.jpg/20150112_090000.jpg/20150129_090000.jpg/20141206_100000.jpg/20150201_090000.jpg/20141225_090000.jpg/20150113_100000.jpg/20141124_100000.jpg/20150110_090000.jpg/20141222_080000.jpg/20141224_080000.jpg/20141221_130100.jpg/20150131_090000.jpg/20141130_090000.jpg/20141226_090000.jpg/20141223_090000.jpg/20141217_090000.jpg/20141220_090000.jpg/20141216_100000.jpg/20150102_090000.jpg/20141205_090000.jpg/20150128_090000.jpg/20141210_100000.jpg/20150122_090000.jpg/20141227_100000.jpg/20141231_090000.jpg/20141121_100000.jpg/20141218_090000.jpg/20150105_090000.jpg/20150107_100000.jpg/20141126_100000.jpg/20150120_090000.jpg/20150202_100000.jpg/20141201_080000.jpg/20150115_100000.jpg/20141203_090000.jpg/20150124_090000.jpg/20150204_090000.jpg/20150104_090000.jpg/20150109_090000.jpg/20150118_090000.jpg/20141208_090000.jpg/20141204_090000.jpg/20150205_100000.jpg/20150117_090000.jpg/20150130_090000.jpg/20150103_090000.jpg/20141209_100000.jpg/20141120_090000.jpg/20141207_080000.jpg/20150127_090000.jpg/20141202_090000.jpg/20150207_090000.jpg/20150126_090000.jpg/20141125_100000.jpg/20150206_100000.jpg/20141219_080000.jpg/20141230_090000.jpg/20150114_090000.jpg/20141228_100000.jpg/20150106_090000.jpg\n"
          ],
          "name": "stdout"
        }
      ]
    },
    {
      "cell_type": "code",
      "metadata": {
        "colab_type": "code",
        "id": "7lGEER_Z8WAw",
        "colab": {
          "base_uri": "https://localhost:8080/",
          "height": 336
        },
        "outputId": "8074367a-e7f1-4039-ef9a-6c4e01e9a67e"
      },
      "source": [
        "# List the contents of the \"prepped\" data directory\n",
        "! ls data_prepped"
      ],
      "execution_count": 173,
      "outputs": [
        {
          "output_type": "stream",
          "text": [
            "010115_090000.jpg  012015_090000.jpg  020815_080000.jpg  120814_090000.jpg\n",
            "010215_090000.jpg  012115_090000.jpg  020915_090000.jpg  120914_100000.jpg\n",
            "010315_090000.jpg  012215_090000.jpg  112014_090000.jpg  121014_100000.jpg\n",
            "010415_090000.jpg  012315_100000.jpg  112114_100000.jpg  121614_100000.jpg\n",
            "010515_090000.jpg  012415_090000.jpg  112214_110000.jpg  121714_090000.jpg\n",
            "010615_090000.jpg  012515_090000.jpg  112314_100000.jpg  121814_090000.jpg\n",
            "010715_100000.jpg  012615_090000.jpg  112414_100000.jpg  121914_080000.jpg\n",
            "010815_090000.jpg  012715_090000.jpg  112514_100000.jpg  122014_090000.jpg\n",
            "010915_090000.jpg  012815_090000.jpg  112614_100000.jpg  122114_130100.jpg\n",
            "011015_090000.jpg  012915_090000.jpg  112714_090000.jpg  122214_080000.jpg\n",
            "011115_090000.jpg  013015_090000.jpg  112914_090000.jpg  122314_090000.jpg\n",
            "011215_090000.jpg  013115_090000.jpg  113014_090000.jpg  122414_080000.jpg\n",
            "011315_100000.jpg  020115_090000.jpg  120114_080000.jpg  122514_090000.jpg\n",
            "011415_090000.jpg  020215_100000.jpg  120214_090000.jpg  122614_090000.jpg\n",
            "011515_100000.jpg  020315_110000.jpg  120314_090000.jpg  122714_100000.jpg\n",
            "011615_090000.jpg  020415_090000.jpg  120414_090000.jpg  122814_100000.jpg\n",
            "011715_090000.jpg  020515_100000.jpg  120514_090000.jpg  122914_090000.jpg\n",
            "011815_090000.jpg  020615_100000.jpg  120614_100000.jpg  123014_090000.jpg\n",
            "011915_090000.jpg  020715_090000.jpg  120714_080000.jpg  123114_090000.jpg\n"
          ],
          "name": "stdout"
        }
      ]
    },
    {
      "cell_type": "code",
      "metadata": {
        "colab_type": "code",
        "id": "sxenPJCs8YL9",
        "colab": {}
      },
      "source": [
        "# List the contents of the directory following the ISO standard\n"
      ],
      "execution_count": 0,
      "outputs": []
    },
    {
      "cell_type": "markdown",
      "metadata": {
        "colab_type": "text",
        "id": "w-cbZ1Vt7osc"
      },
      "source": [
        "# Question 3"
      ]
    },
    {
      "cell_type": "code",
      "metadata": {
        "colab_type": "code",
        "id": "mcsuYrec7EoQ",
        "colab": {}
      },
      "source": [
        "! pip install exifread"
      ],
      "execution_count": 0,
      "outputs": []
    },
    {
      "cell_type": "code",
      "metadata": {
        "colab_type": "code",
        "id": "hfhQxJwZ8ptz",
        "colab": {}
      },
      "source": [
        "! mkdir data_iso_q3"
      ],
      "execution_count": 0,
      "outputs": []
    },
    {
      "cell_type": "code",
      "metadata": {
        "colab_type": "code",
        "id": "C34G8V_H6004",
        "colab": {}
      },
      "source": [
        "import os\n",
        "import os.path\n",
        "import shutil\n",
        "\n",
        "import exifread\n",
        "\n",
        "src_path = \"data_reduced\"\n",
        "dst_path = \"data_iso_q3\"\n",
        "\n",
        "# Extend this code to copy of the \"data_reduced\" directory \n",
        "# to the \"data_iso_q3\" directory with a name that uses the\n",
        "# ISO 8601 date standard\n",
        "\n"
      ],
      "execution_count": 0,
      "outputs": []
    },
    {
      "cell_type": "code",
      "metadata": {
        "colab_type": "code",
        "id": "uRi3VGRN8wFr",
        "colab": {}
      },
      "source": [
        "# List the contents of the reduced raw data directory\n"
      ],
      "execution_count": 0,
      "outputs": []
    },
    {
      "cell_type": "code",
      "metadata": {
        "colab_type": "code",
        "id": "h4rMbSrs8yfi",
        "colab": {}
      },
      "source": [
        "# List the contents of the directory following the ISO standard\n"
      ],
      "execution_count": 0,
      "outputs": []
    },
    {
      "cell_type": "code",
      "metadata": {
        "colab_type": "code",
        "id": "pPW36V-88zps",
        "colab": {}
      },
      "source": [
        ""
      ],
      "execution_count": 0,
      "outputs": []
    }
  ]
}